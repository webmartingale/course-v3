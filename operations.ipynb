{
  "nbformat": 4,
  "nbformat_minor": 0,
  "metadata": {
    "colab": {
      "name": "operations.ipynb",
      "provenance": [],
      "collapsed_sections": [],
      "authorship_tag": "ABX9TyNAXBXCwybVsyHARSxNxEuJ"
    },
    "kernelspec": {
      "name": "python3",
      "display_name": "Python 3"
    }
  },
  "cells": [
    {
      "cell_type": "markdown",
      "metadata": {
        "id": "l1OajkGJZZgo",
        "colab_type": "text"
      },
      "source": [
        "https://towardsdatascience.com/google-drive-google-colab-github-dont-just-read-do-it-5554d5824228\n",
        "\n",
        "https://towardsdatascience.com/colaboratory-drive-github-the-workflow-made-simpler-bde89fba8a39"
      ]
    },
    {
      "cell_type": "code",
      "metadata": {
        "id": "5zzvPOhfTCfZ",
        "colab_type": "code",
        "outputId": "3417c84a-88fc-4bc5-8cc5-43ad3351e476",
        "colab": {
          "base_uri": "https://localhost:8080/",
          "height": 144
        }
      },
      "source": [
        "# Mount Google Drive\n",
        "from google.colab import drive # import drive from google colab\n",
        "\n",
        "ROOT = \"/content/drive\"     # default location for the drive\n",
        "print(ROOT)                 # print content of ROOT (Optional)\n",
        "\n",
        "drive.mount(ROOT)           # we mount the google drive at /content/drive"
      ],
      "execution_count": 1,
      "outputs": [
        {
          "output_type": "stream",
          "text": [
            "/content/drive\n",
            "Go to this URL in a browser: https://accounts.google.com/o/oauth2/auth?client_id=947318989803-6bn6qk8qdgf4n4g3pfee6491hc0brc4i.apps.googleusercontent.com&redirect_uri=urn%3aietf%3awg%3aoauth%3a2.0%3aoob&response_type=code&scope=email%20https%3a%2f%2fwww.googleapis.com%2fauth%2fdocs.test%20https%3a%2f%2fwww.googleapis.com%2fauth%2fdrive%20https%3a%2f%2fwww.googleapis.com%2fauth%2fdrive.photos.readonly%20https%3a%2f%2fwww.googleapis.com%2fauth%2fpeopleapi.readonly\n",
            "\n",
            "Enter your authorization code:\n",
            "··········\n",
            "Mounted at /content/drive\n"
          ],
          "name": "stdout"
        }
      ]
    },
    {
      "cell_type": "code",
      "metadata": {
        "id": "Bm3FyZ6iTKpT",
        "colab_type": "code",
        "outputId": "bf402eda-ec41-46d5-c377-a58316fea386",
        "colab": {
          "base_uri": "https://localhost:8080/",
          "height": 35
        }
      },
      "source": [
        "%cd '/content/drive/My Drive/Colab Notebooks/fast.ai'"
      ],
      "execution_count": 2,
      "outputs": [
        {
          "output_type": "stream",
          "text": [
            "/content/drive/My Drive/Colab Notebooks/fast.ai\n"
          ],
          "name": "stdout"
        }
      ]
    },
    {
      "cell_type": "code",
      "metadata": {
        "id": "eveoZbJ6TegI",
        "colab_type": "code",
        "outputId": "f99f025e-24eb-43d6-d111-4b14220daa6b",
        "colab": {
          "base_uri": "https://localhost:8080/",
          "height": 53
        }
      },
      "source": [
        "%ls"
      ],
      "execution_count": 3,
      "outputs": [
        {
          "output_type": "stream",
          "text": [
            "'colab fast.ai setup'   \u001b[0m\u001b[01;34mfastai-course-v3\u001b[0m/\n",
            " cpu_gpu_time.ipynb     operations.ipynb\n"
          ],
          "name": "stdout"
        }
      ]
    },
    {
      "cell_type": "code",
      "metadata": {
        "id": "o2C6FRLtUBwm",
        "colab_type": "code",
        "colab": {}
      },
      "source": [
        "#GIT_TOKEN = 'd5bdc1cb74421cdb0769f77aca4bb7ebdc7e301b'"
      ],
      "execution_count": 0,
      "outputs": []
    },
    {
      "cell_type": "code",
      "metadata": {
        "id": "q9LvWN1_U3WE",
        "colab_type": "code",
        "outputId": "f7cfdeac-faa8-492d-faef-73f3f131489f",
        "colab": {
          "base_uri": "https://localhost:8080/",
          "height": 70
        }
      },
      "source": [
        "# Clone github repository setup\n",
        "# import join used to join ROOT path and MY_GOOGLE_DRIVE_PATH\n",
        "from os.path import join  \n",
        "\n",
        "# path to your project on Google Drive\n",
        "MY_GOOGLE_DRIVE_PATH = 'My Drive/Colab Notebooks/fast.ai' \n",
        "# replace with your Github username \n",
        "GIT_USERNAME = \"webmartingale\" \n",
        "# definitely replace with your\n",
        "GIT_TOKEN = 'd5bdc1cb74421cdb0769f77aca4bb7ebdc7e301b'\n",
        "# Replace with your github repository in this case we want \n",
        "# to clone deep-learning-v2-pytorch repository\n",
        "GIT_REPOSITORY = \"fastai-course-v3\" \n",
        "\n",
        "PROJECT_PATH = join(ROOT, MY_GOOGLE_DRIVE_PATH)\n",
        "\n",
        "# It's good to print out the value if you are not sure \n",
        "print(\"PROJECT_PATH: \", PROJECT_PATH)   \n",
        "\n",
        "# In case we haven't created the folder already; we will create a folder in the project path \n",
        "!mkdir \"{PROJECT_PATH}\"    \n",
        "\n",
        "#GIT_PATH = \"https://{GIT_TOKEN}@github.com/{GIT_USERNAME}/{GIT_REPOSITORY}.git\" this return 400 Bad Request for me\n",
        "GIT_PATH = \"https://\" + GIT_TOKEN + \"@github.com/\" + GIT_USERNAME + \"/\" + GIT_REPOSITORY + \".git\"\n",
        "print(\"GIT_PATH: \", GIT_PATH)"
      ],
      "execution_count": 11,
      "outputs": [
        {
          "output_type": "stream",
          "text": [
            "PROJECT_PATH:  /content/drive/My Drive/Colab Notebooks/fast.ai\n",
            "mkdir: cannot create directory ‘/content/drive/My Drive/Colab Notebooks/fast.ai’: File exists\n",
            "GIT_PATH:  https://d5bdc1cb74421cdb0769f77aca4bb7ebdc7e301b@github.com/webmartingale/fastai-course-v3.git\n"
          ],
          "name": "stdout"
        }
      ]
    },
    {
      "cell_type": "code",
      "metadata": {
        "id": "Wno1yGNNVlKP",
        "colab_type": "code",
        "outputId": "56eed7dc-7688-4bff-9b83-d844fd72c7cf",
        "colab": {
          "base_uri": "https://localhost:8080/",
          "height": 90
        }
      },
      "source": [
        "%cd \"{PROJECT_PATH}\"    # Change directory to the location defined in project_path\n",
        "!git clone \"{GIT_PATH}\" # clone the github repository"
      ],
      "execution_count": 6,
      "outputs": [
        {
          "output_type": "stream",
          "text": [
            "[Errno 2] No such file or directory: '/content/drive/My Drive/Colab Notebooks/fast.ai # Change directory to the location defined in project_path'\n",
            "/content/drive/My Drive/Colab Notebooks/fast.ai\n",
            "fatal: destination path 'fastai-course-v3' already exists and is not an empty directory.\n"
          ],
          "name": "stdout"
        }
      ]
    },
    {
      "cell_type": "code",
      "metadata": {
        "id": "uQW6AVajVxnq",
        "colab_type": "code",
        "outputId": "e8025216-ac17-42ac-924e-9cc832e3789a",
        "colab": {
          "base_uri": "https://localhost:8080/",
          "height": 53
        }
      },
      "source": [
        "%cd \"{GIT_REPOSITORY}\""
      ],
      "execution_count": 12,
      "outputs": [
        {
          "output_type": "stream",
          "text": [
            "[Errno 2] No such file or directory: 'fastai-course-v3'\n",
            "/content/drive/My Drive/Colab Notebooks/fast.ai/fastai-course-v3\n"
          ],
          "name": "stdout"
        }
      ]
    },
    {
      "cell_type": "code",
      "metadata": {
        "id": "GQZkjVJbWnoc",
        "colab_type": "code",
        "outputId": "e526fc63-1f45-47e6-e0a4-e085cc01f7d9",
        "colab": {
          "base_uri": "https://localhost:8080/",
          "height": 88
        }
      },
      "source": [
        "!git checkout develop"
      ],
      "execution_count": 9,
      "outputs": [
        {
          "output_type": "stream",
          "text": [
            "M\toperations.ipynb\n",
            "Already on 'develop'\n",
            "Your branch is ahead of 'origin/develop' by 2 commits.\n",
            "  (use \"git push\" to publish your local commits)\n"
          ],
          "name": "stdout"
        }
      ]
    },
    {
      "cell_type": "code",
      "metadata": {
        "id": "2k7v69NoXfWh",
        "colab_type": "code",
        "outputId": "8c935493-1391-45d4-b9d9-4489d87fc13a",
        "colab": {
          "base_uri": "https://localhost:8080/",
          "height": 53
        }
      },
      "source": [
        "!git branch"
      ],
      "execution_count": 13,
      "outputs": [
        {
          "output_type": "stream",
          "text": [
            "* \u001b[32mdevelop\u001b[m\n",
            "  master\u001b[m\n"
          ],
          "name": "stdout"
        }
      ]
    },
    {
      "cell_type": "code",
      "metadata": {
        "id": "eerLlakbZhNo",
        "colab_type": "code",
        "colab": {}
      },
      "source": [
        "!git add ."
      ],
      "execution_count": 0,
      "outputs": []
    },
    {
      "cell_type": "code",
      "metadata": {
        "id": "cizby9KMZjUO",
        "colab_type": "code",
        "outputId": "ebf83e19-9baa-4760-a56a-f14b760ace4b",
        "colab": {
          "base_uri": "https://localhost:8080/",
          "height": 177
        }
      },
      "source": [
        "!git status"
      ],
      "execution_count": 16,
      "outputs": [
        {
          "output_type": "stream",
          "text": [
            "On branch develop\n",
            "Your branch is ahead of 'origin/develop' by 2 commits.\n",
            "  (use \"git push\" to publish your local commits)\n",
            "\n",
            "Changes to be committed:\n",
            "  (use \"git reset HEAD <file>...\" to unstage)\n",
            "\n",
            "\t\u001b[32mmodified:   operations.ipynb\u001b[m\n",
            "\n"
          ],
          "name": "stdout"
        }
      ]
    },
    {
      "cell_type": "code",
      "metadata": {
        "id": "WwkZvmuMX4TO",
        "colab_type": "code",
        "outputId": "d08c7bcc-4829-4eb3-e52c-c3b0b212cb24",
        "colab": {
          "base_uri": "https://localhost:8080/",
          "height": 53
        }
      },
      "source": [
        "!git config --global user.email \"webmartingale@gmail.com\"\n",
        "!git config --global user.name \"webmartingale\"\n",
        "!git commit -m 'Updating operations file for Github + Drive integration'"
      ],
      "execution_count": 17,
      "outputs": [
        {
          "output_type": "stream",
          "text": [
            "[develop bbd84b6] Updating operations file for Github + Drive integration\n",
            " 1 file changed, 1 insertion(+), 1 deletion(-)\n"
          ],
          "name": "stdout"
        }
      ]
    },
    {
      "cell_type": "code",
      "metadata": {
        "id": "OTTMChWsQ01T",
        "colab_type": "code",
        "colab": {}
      },
      "source": [
        "!git remote set-url origin '{GIT_PATH}'"
      ],
      "execution_count": 0,
      "outputs": []
    },
    {
      "cell_type": "code",
      "metadata": {
        "id": "SY1JKx3sQU10",
        "colab_type": "code",
        "colab": {
          "base_uri": "https://localhost:8080/",
          "height": 53
        },
        "outputId": "f3da80e7-e696-4c59-9488-11f4feac07d7"
      },
      "source": [
        "!git remote -v "
      ],
      "execution_count": 30,
      "outputs": [
        {
          "output_type": "stream",
          "text": [
            "origin\thttps://d5bdc1cb74421cdb0769f77aca4bb7ebdc7e301b@github.com/webmartingale/fastai-course-v3.git (fetch)\n",
            "origin\thttps://d5bdc1cb74421cdb0769f77aca4bb7ebdc7e301b@github.com/webmartingale/fastai-course-v3.git (push)\n"
          ],
          "name": "stdout"
        }
      ]
    },
    {
      "cell_type": "code",
      "metadata": {
        "id": "LGH11rdXRR1P",
        "colab_type": "code",
        "colab": {
          "base_uri": "https://localhost:8080/",
          "height": 70
        },
        "outputId": "89a11bfd-3453-43fe-d37e-d52a9a1b7c38"
      },
      "source": [
        "!git pull"
      ],
      "execution_count": 32,
      "outputs": [
        {
          "output_type": "stream",
          "text": [
            "Auto-merging operations.ipynb\n",
            "CONFLICT (content): Merge conflict in operations.ipynb\n",
            "Automatic merge failed; fix conflicts and then commit the result.\n"
          ],
          "name": "stdout"
        }
      ]
    },
    {
      "cell_type": "code",
      "metadata": {
        "id": "t3qN4w2rXqXe",
        "colab_type": "code",
        "outputId": "789d56b9-dc6d-47d9-9f26-ffa38bc5d6c8",
        "colab": {
          "base_uri": "https://localhost:8080/",
          "height": 141
        }
      },
      "source": [
        "#!git push --set-upstream origin develop\n",
        "#!git push origin develop"
      ],
      "execution_count": 31,
      "outputs": [
        {
          "output_type": "stream",
          "text": [
            "To https://github.com/webmartingale/fastai-course-v3.git\n",
            " ! [rejected]        develop -> develop (non-fast-forward)\n",
            "error: failed to push some refs to 'https://d5bdc1cb74421cdb0769f77aca4bb7ebdc7e301b@github.com/webmartingale/fastai-course-v3.git'\n",
            "hint: Updates were rejected because the tip of your current branch is behind\n",
            "hint: its remote counterpart. Integrate the remote changes (e.g.\n",
            "hint: 'git pull ...') before pushing again.\n",
            "hint: See the 'Note about fast-forwards' in 'git push --help' for details.\n"
          ],
          "name": "stdout"
        }
      ]
    }
  ]
}
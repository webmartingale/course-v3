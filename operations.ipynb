{
  "nbformat": 4,
  "nbformat_minor": 0,
  "metadata": {
    "colab": {
      "name": "operations.ipynb",
      "provenance": [],
      "authorship_tag": "ABX9TyMSVxtJBznGYHu3c7YGxVs4",
      "include_colab_link": true
    },
    "kernelspec": {
      "name": "python3",
      "display_name": "Python 3"
    }
  },
  "cells": [
    {
      "cell_type": "markdown",
      "metadata": {
        "id": "view-in-github",
        "colab_type": "text"
      },
      "source": [
        "<a href=\"https://colab.research.google.com/github/webmartingale/fastai-course-v3/blob/develop/operations.ipynb\" target=\"_parent\"><img src=\"https://colab.research.google.com/assets/colab-badge.svg\" alt=\"Open In Colab\"/></a>"
      ]
    },
    {
      "cell_type": "markdown",
      "metadata": {
        "id": "l1OajkGJZZgo",
        "colab_type": "text"
      },
      "source": [
        "https://towardsdatascience.com/google-drive-google-colab-github-dont-just-read-do-it-5554d5824228\n",
        "\n",
        "https://towardsdatascience.com/colaboratory-drive-github-the-workflow-made-simpler-bde89fba8a39"
      ]
    },
    {
      "cell_type": "code",
      "metadata": {
        "id": "5zzvPOhfTCfZ",
        "colab_type": "code",
        "outputId": "57994e68-4e30-47c6-9893-48c3ee30c002",
        "colab": {
          "base_uri": "https://localhost:8080/",
          "height": 54
        }
      },
      "source": [
        "# Mount Google Drive\n",
        "from google.colab import drive # import drive from google colab\n",
        "\n",
        "ROOT = \"/content/drive\"     # default location for the drive\n",
        "print(ROOT)                 # print content of ROOT (Optional)\n",
        "\n",
        "drive.mount(ROOT)           # we mount the google drive at /content/drive"
      ],
      "execution_count": 14,
      "outputs": [
        {
          "output_type": "stream",
          "text": [
            "/content/drive\n",
            "Drive already mounted at /content/drive; to attempt to forcibly remount, call drive.mount(\"/content/drive\", force_remount=True).\n"
          ],
          "name": "stdout"
        }
      ]
    },
    {
      "cell_type": "code",
      "metadata": {
        "id": "Bm3FyZ6iTKpT",
        "colab_type": "code",
        "outputId": "5b9cd4ae-1f1a-4223-81e4-32c6592c515f",
        "colab": {
          "base_uri": "https://localhost:8080/",
          "height": 35
        }
      },
      "source": [
        "%cd '/content/drive/My Drive/Colab Notebooks/fast.ai'"
      ],
      "execution_count": 15,
      "outputs": [
        {
          "output_type": "stream",
          "text": [
            "/content/drive/My Drive/Colab Notebooks/fast.ai\n"
          ],
          "name": "stdout"
        }
      ]
    },
    {
      "cell_type": "code",
      "metadata": {
        "id": "eveoZbJ6TegI",
        "colab_type": "code",
        "outputId": "f34ba35f-fa61-4b72-b97d-0548079d0d53",
        "colab": {
          "base_uri": "https://localhost:8080/",
          "height": 54
        }
      },
      "source": [
        "%ls"
      ],
      "execution_count": 16,
      "outputs": [
        {
          "output_type": "stream",
          "text": [
            "'colab fast.ai setup'   \u001b[0m\u001b[01;34mfastai-course-v3\u001b[0m/\n",
            " cpu_gpu_time.ipynb     operations.ipynb\n"
          ],
          "name": "stdout"
        }
      ]
    },
    {
      "cell_type": "code",
      "metadata": {
        "id": "o2C6FRLtUBwm",
        "colab_type": "code",
        "colab": {}
      },
      "source": [
        "#GIT_TOKEN = '49b0f06ec5dfc0462dffa2216b6682c0b29ed33c'"
      ],
      "execution_count": 0,
      "outputs": []
    },
    {
      "cell_type": "code",
      "metadata": {
        "id": "q9LvWN1_U3WE",
        "colab_type": "code",
        "outputId": "4b35bcea-0f30-4e86-943f-003aefe52089",
        "colab": {
          "base_uri": "https://localhost:8080/",
          "height": 72
        }
      },
      "source": [
        "# Clone github repository setup\n",
        "# import join used to join ROOT path and MY_GOOGLE_DRIVE_PATH\n",
        "from os.path import join  \n",
        "\n",
        "# path to your project on Google Drive\n",
        "MY_GOOGLE_DRIVE_PATH = 'My Drive/Colab Notebooks/fast.ai' \n",
        "# replace with your Github username \n",
        "GIT_USERNAME = \"webmartingale\" \n",
        "# definitely replace with your\n",
        "GIT_TOKEN = '49b0f06ec5dfc0462dffa2216b6682c0b29ed33c'\n",
        "# Replace with your github repository in this case we want \n",
        "# to clone deep-learning-v2-pytorch repository\n",
        "GIT_REPOSITORY = \"fastai-course-v3\" \n",
        "\n",
        "PROJECT_PATH = join(ROOT, MY_GOOGLE_DRIVE_PATH)\n",
        "\n",
        "# It's good to print out the value if you are not sure \n",
        "print(\"PROJECT_PATH: \", PROJECT_PATH)   \n",
        "\n",
        "# In case we haven't created the folder already; we will create a folder in the project path \n",
        "!mkdir \"{PROJECT_PATH}\"    \n",
        "\n",
        "#GIT_PATH = \"https://{GIT_TOKEN}@github.com/{GIT_USERNAME}/{GIT_REPOSITORY}.git\" this return 400 Bad Request for me\n",
        "GIT_PATH = \"https://\" + GIT_TOKEN + \"@github.com/\" + GIT_USERNAME + \"/\" + GIT_REPOSITORY + \".git\"\n",
        "print(\"GIT_PATH: \", GIT_PATH)"
      ],
      "execution_count": 18,
      "outputs": [
        {
          "output_type": "stream",
          "text": [
            "PROJECT_PATH:  /content/drive/My Drive/Colab Notebooks/fast.ai\n",
            "mkdir: cannot create directory ‘/content/drive/My Drive/Colab Notebooks/fast.ai’: File exists\n",
            "GIT_PATH:  https://49b0f06ec5dfc0462dffa2216b6682c0b29ed33c@github.com/webmartingale/fastai-course-v3.git\n"
          ],
          "name": "stdout"
        }
      ]
    },
    {
      "cell_type": "code",
      "metadata": {
        "id": "Wno1yGNNVlKP",
        "colab_type": "code",
        "outputId": "0e37c87c-b700-4f7f-d923-ef8dea7a1765",
        "colab": {
          "base_uri": "https://localhost:8080/",
          "height": 183
        }
      },
      "source": [
        "%cd \"{PROJECT_PATH}\"    # Change directory to the location defined in project_path\n",
        "!git clone \"{GIT_PATH}\" # clone the github repository"
      ],
      "execution_count": 0,
      "outputs": [
        {
          "output_type": "stream",
          "text": [
            "[Errno 2] No such file or directory: '/content/drive/My Drive/Colab Notebooks/fast.ai # Change directory to the location defined in project_path'\n",
            "/content/drive/My Drive/Colab Notebooks/fast.ai\n",
            "Cloning into 'fastai-course-v3'...\n",
            "remote: Enumerating objects: 5337, done.\u001b[K\n",
            "remote: Total 5337 (delta 0), reused 0 (delta 0), pack-reused 5337\u001b[K\n",
            "Receiving objects: 100% (5337/5337), 257.80 MiB | 21.47 MiB/s, done.\n",
            "Resolving deltas: 100% (2887/2887), done.\n",
            "Checking out files: 100% (857/857), done.\n"
          ],
          "name": "stdout"
        }
      ]
    },
    {
      "cell_type": "code",
      "metadata": {
        "id": "uQW6AVajVxnq",
        "colab_type": "code",
        "outputId": "06673c56-fb91-449b-adc1-b3980aaf6abb",
        "colab": {
          "base_uri": "https://localhost:8080/",
          "height": 35
        }
      },
      "source": [
        "%cd \"{GIT_REPOSITORY}\""
      ],
      "execution_count": 19,
      "outputs": [
        {
          "output_type": "stream",
          "text": [
            "/content/drive/My Drive/Colab Notebooks/fast.ai/fastai-course-v3\n"
          ],
          "name": "stdout"
        }
      ]
    },
    {
      "cell_type": "code",
      "metadata": {
        "id": "GQZkjVJbWnoc",
        "colab_type": "code",
        "outputId": "883e9ac5-8f28-4292-a795-2ce3c65a4788",
        "colab": {
          "base_uri": "https://localhost:8080/",
          "height": 35
        }
      },
      "source": [
        "!git checkout -b develop"
      ],
      "execution_count": 0,
      "outputs": [
        {
          "output_type": "stream",
          "text": [
            "fatal: A branch named 'develop' already exists.\n"
          ],
          "name": "stdout"
        }
      ]
    },
    {
      "cell_type": "code",
      "metadata": {
        "id": "2k7v69NoXfWh",
        "colab_type": "code",
        "outputId": "d211540a-14ed-4fa5-cc0e-11543cfd7910",
        "colab": {
          "base_uri": "https://localhost:8080/",
          "height": 54
        }
      },
      "source": [
        "!git branch"
      ],
      "execution_count": 20,
      "outputs": [
        {
          "output_type": "stream",
          "text": [
            "* \u001b[32mdevelop\u001b[m\n",
            "  master\u001b[m\n"
          ],
          "name": "stdout"
        }
      ]
    },
    {
      "cell_type": "code",
      "metadata": {
        "id": "eCSFM9redOPg",
        "colab_type": "code",
        "colab": {}
      },
      "source": [
        "rm -f .git/index.lock"
      ],
      "execution_count": 0,
      "outputs": []
    },
    {
      "cell_type": "code",
      "metadata": {
        "id": "eerLlakbZhNo",
        "colab_type": "code",
        "colab": {}
      },
      "source": [
        "!git add ."
      ],
      "execution_count": 0,
      "outputs": []
    },
    {
      "cell_type": "code",
      "metadata": {
        "id": "cizby9KMZjUO",
        "colab_type": "code",
        "outputId": "f632ce57-30ac-403b-b7b5-5d750e135216",
        "colab": {
          "base_uri": "https://localhost:8080/",
          "height": 181
        }
      },
      "source": [
        "!git status"
      ],
      "execution_count": 28,
      "outputs": [
        {
          "output_type": "stream",
          "text": [
            "On branch develop\n",
            "Your branch is ahead of 'origin/develop' by 1 commit.\n",
            "  (use \"git push\" to publish your local commits)\n",
            "\n",
            "Changes to be committed:\n",
            "  (use \"git reset HEAD <file>...\" to unstage)\n",
            "\n",
            "\t\u001b[32mmodified:   operations.ipynb\u001b[m\n",
            "\n"
          ],
          "name": "stdout"
        }
      ]
    },
    {
      "cell_type": "code",
      "metadata": {
        "id": "WwkZvmuMX4TO",
        "colab_type": "code",
        "outputId": "4adb60e5-345d-4fd9-b2e4-f22cba2553d5",
        "colab": {
          "base_uri": "https://localhost:8080/",
          "height": 72
        }
      },
      "source": [
        "!git config --global user.email \"webmartingale@gmail.com\"\n",
        "!git config --global user.name \"webmartingale\"\n",
        "!git commit -m 'Adding operations file for Github + Drive integration'"
      ],
      "execution_count": 29,
      "outputs": [
        {
          "output_type": "stream",
          "text": [
            "[develop ac858d5] Adding operations file for Github + Drive integration\n",
            " 1 file changed, 1 insertion(+), 1 deletion(-)\n",
            " rewrite operations.ipynb (98%)\n"
          ],
          "name": "stdout"
        }
      ]
    },
    {
      "cell_type": "code",
      "metadata": {
        "id": "6zJGCG2td8FC",
        "colab_type": "code",
        "colab": {}
      },
      "source": [
        "!git remote set-url origin '{GIT_PATH}'"
      ],
      "execution_count": 0,
      "outputs": []
    },
    {
      "cell_type": "code",
      "metadata": {
        "id": "5vedofwAeibn",
        "colab_type": "code",
        "colab": {
          "base_uri": "https://localhost:8080/",
          "height": 54
        },
        "outputId": "efc2b23f-5cc0-46ec-9df0-2dccf8c5b21b"
      },
      "source": [
        "!git remote -v"
      ],
      "execution_count": 39,
      "outputs": [
        {
          "output_type": "stream",
          "text": [
            "origin\thttps://49b0f06ec5dfc0462dffa2216b6682c0b29ed33c@github.com/webmartingale/fastai-course-v3.git (fetch)\n",
            "origin\thttps://49b0f06ec5dfc0462dffa2216b6682c0b29ed33c@github.com/webmartingale/fastai-course-v3.git (push)\n"
          ],
          "name": "stdout"
        }
      ]
    },
    {
      "cell_type": "code",
      "metadata": {
        "id": "t3qN4w2rXqXe",
        "colab_type": "code",
        "outputId": "299fdc55-707e-418b-8ba7-0b2d4c89001e",
        "colab": {
          "base_uri": "https://localhost:8080/",
          "height": 35
        }
      },
      "source": [
        "#!git push --set-upstream origin develop\n",
        "!git push"
      ],
      "execution_count": 41,
      "outputs": [
        {
          "output_type": "stream",
          "text": [
            "fatal: could not read Password for 'https://49b0f06ec5dfc0462dffa2216b6682c0b29ed33c@github.com': No such device or address\n"
          ],
          "name": "stdout"
        }
      ]
    },
    {
      "cell_type": "code",
      "metadata": {
        "id": "vKVEtgRodBa1",
        "colab_type": "code",
        "colab": {}
      },
      "source": [
        ""
      ],
      "execution_count": 0,
      "outputs": []
    }
  ]
}
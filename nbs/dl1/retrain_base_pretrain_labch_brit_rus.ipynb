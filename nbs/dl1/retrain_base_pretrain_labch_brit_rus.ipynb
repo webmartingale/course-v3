{
 "cells": [
  {
   "cell_type": "code",
   "execution_count": null,
   "metadata": {},
   "outputs": [],
   "source": [
    "%reload_ext autoreload\n",
    "%autoreload 2\n",
    "%matplotlib inline\n",
    "%pylab inline\n",
    "\n",
    "from fastai.vision import *\n",
    "import pandas as pd\n",
    "import matplotlib.pyplot as plt\n",
    "import matplotlib.image as mpimg"
   ]
  },
  {
   "cell_type": "code",
   "execution_count": null,
   "metadata": {},
   "outputs": [],
   "source": [
    "experiment_name = 'retrain_base_pretrain_labch_brit_rus'\n",
    "experiment_shortname = 'labch_brit_rus'\n",
    "path_base = untar_data(URLs.PETS)\n",
    "path = path_base/'images'\n",
    "path_experiments = Path('./experiments')\n",
    "path_experiment = path_experiments/experiment_name\n",
    "path_experiment.mkdir(parents = True, exist_ok=True)\n",
    "csv_name = 'switch_British_Shorthair-Russian_Blue.csv'\n",
    "# csv_name = 'labels.csv'\n",
    "save_newmodels = False"
   ]
  },
  {
   "cell_type": "code",
   "execution_count": null,
   "metadata": {},
   "outputs": [],
   "source": [
    "lrs_totest = [3e-5, 5e-5, 1e-4, 3e-4, 5e-4]\n",
    "# lrs_totest = [1e-3, 3e-3]\n",
    "fit_types = ['onecycle']\n",
    "epochs = [10, 20]\n",
    "# epoch_long = 30\n",
    "# epoch_short = 10\n",
    "# epoch_long = 3\n",
    "# epoch_short = 1"
   ]
  },
  {
   "cell_type": "markdown",
   "metadata": {},
   "source": [
    "### Utils"
   ]
  },
  {
   "cell_type": "code",
   "execution_count": null,
   "metadata": {},
   "outputs": [],
   "source": [
    "def fig_save_htmllink(modelsavename, plotname, fig):\n",
    "    fname = \"{}_{}.png\".format(modelsavename,plotname)\n",
    "    fig.savefig(path_experiment/fname)\n",
    "    imgstr = '<img src=\"{}\" /> '.format(path_experiment/fname)\n",
    "    return imgstr"
   ]
  },
  {
   "cell_type": "code",
   "execution_count": null,
   "metadata": {},
   "outputs": [],
   "source": [
    "from io import BytesIO\n",
    "import base64\n",
    "def fig2inlinehtml(fig):\n",
    "    figfile = BytesIO()\n",
    "    fig.savefig(figfile, format='png')\n",
    "    figfile.seek(0) \n",
    "    # for python 2.7:\n",
    "    #figdata_png = base64.b64encode(figfile.getvalue())\n",
    "    # for python 3.x:\n",
    "    figdata_png = base64.b64encode(figfile.getvalue()).decode()\n",
    "    imgstr = '<img src=\"data:image/png;base64,{}\" />'.format(figdata_png)\n",
    "    return imgstr"
   ]
  },
  {
   "cell_type": "raw",
   "metadata": {},
   "source": [
    "# how to use:\n",
    "plothtml = fig2inlinehtml(fig_train_losses)\n",
    "test_df = pd.DataFrame(columns=['name', 'plot'])\n",
    "test_df = test_df.append({'name': 'test1', 'plot': plothtml}, ignore_index=True)\n",
    "test_df.to_html('test.html', escape=False)"
   ]
  },
  {
   "cell_type": "markdown",
   "metadata": {},
   "source": [
    "### Load data"
   ]
  },
  {
   "cell_type": "raw",
   "metadata": {},
   "source": [
    "df = pd.read_csv(path_base/csv_name)\n",
    "df.head()"
   ]
  },
  {
   "cell_type": "raw",
   "metadata": {},
   "source": [
    "img=mpimg.imread(path/'Siamese_87.jpg')\n",
    "imgplot = plt.imshow(img)\n",
    "plt.show()"
   ]
  },
  {
   "cell_type": "code",
   "execution_count": null,
   "metadata": {},
   "outputs": [],
   "source": [
    "src = ImageList.from_csv(path_base, csv_name=csv_name).split_by_rand_pct(0.4, seed=2).label_from_df(cols='label')"
   ]
  },
  {
   "cell_type": "raw",
   "metadata": {},
   "source": [
    "src.train[0][0]"
   ]
  },
  {
   "cell_type": "raw",
   "metadata": {},
   "source": [
    "src.train[0][1]"
   ]
  },
  {
   "cell_type": "code",
   "execution_count": null,
   "metadata": {},
   "outputs": [],
   "source": [
    "bs = 64\n",
    "tfms = get_transforms()\n",
    "np.random.seed(2)"
   ]
  },
  {
   "cell_type": "code",
   "execution_count": null,
   "metadata": {},
   "outputs": [],
   "source": [
    "def get_data(size, bs, padding_mode='reflection'):\n",
    "    return (src.transform(tfms, size=size, padding_mode=padding_mode)\n",
    "           .databunch(bs=bs).normalize(imagenet_stats))"
   ]
  },
  {
   "cell_type": "raw",
   "metadata": {},
   "source": [
    "def get_data(size, bs, padding_mode='reflection'):\n",
    "    return (src.label_from_re(r'([^/]+)_\\d+.jpg$')\n",
    "           .transform(tfms, size=size, padding_mode=padding_mode)\n",
    "           .databunch(bs=bs).normalize(imagenet_stats))"
   ]
  },
  {
   "cell_type": "code",
   "execution_count": null,
   "metadata": {},
   "outputs": [],
   "source": [
    "data = get_data(224, bs)"
   ]
  },
  {
   "cell_type": "raw",
   "metadata": {},
   "source": [
    "data.show_batch()"
   ]
  },
  {
   "cell_type": "code",
   "execution_count": null,
   "metadata": {},
   "outputs": [],
   "source": [
    "gc.collect()"
   ]
  },
  {
   "cell_type": "markdown",
   "metadata": {},
   "source": [
    "### Train script"
   ]
  },
  {
   "cell_type": "code",
   "execution_count": null,
   "metadata": {},
   "outputs": [],
   "source": [
    "pd.set_option('display.max_colwidth', None)\n",
    "output_df = pd.DataFrame(columns=['basemodeltype', 'basemodelfile', 'newmodelfile', 'lr', 'fit_type', 'epoch', 'orig_metric', 'retrain_metric',\n",
    "                                'orig_most_confused', 'fig_base_toplosses', 'fig_base_confmat', 'fig_train_confmat', 'fig_orig_lrfind',\n",
    "                                'last_train_loss', 'last_val_loss', 'last_val_metric', \n",
    "                                'fig_train_lr', 'fig_train_losses', 'fig_train_metrics'])"
   ]
  },
  {
   "cell_type": "code",
   "execution_count": null,
   "metadata": {},
   "outputs": [],
   "source": [
    "%matplotlib agg\n",
    "%matplotlib agg\n",
    "def trainscript(output_df):\n",
    "    \n",
    "    _ = learn.load(basemodelfile)\n",
    "\n",
    "    orig_val_metric = float(learn.validate()[1])\n",
    "\n",
    "    interp = ClassificationInterpretation.from_learner(learn)\n",
    "    losses,idxs = interp.top_losses()\n",
    "    fig_base_toplosses = interp.plot_top_losses(9, figsize=(15,11), return_fig=True)\n",
    "    fig_base_confmat = interp.plot_confusion_matrix(figsize=(12,12), dpi=60, return_fig=True)\n",
    "    most_conf_base = interp.most_confused(min_val=10)\n",
    "\n",
    "    learn.lr_find()\n",
    "    fig_orig_lrfind = learn.recorder.plot(return_fig = True)\n",
    "\n",
    "    for epoch in epochs:\n",
    "        for lr in lrs_totest:\n",
    "#             epoch = epoch_short if lr >= 1e-3 else epoch_long\n",
    "            for fit_type in fit_types:\n",
    "                _ = learn.load(basemodelfile)\n",
    "                modelsavename = basemodelfile + '_' + experiment_shortname + '-' + 'ep' + str(epoch) + '-' + fit_type + '-' + 'lr' + str(lr)\n",
    "                print(\"Training: {}\".format(modelsavename))\n",
    "                if fit_type == 'const':\n",
    "                    learn.fit(epoch, lr= lr)\n",
    "                else:\n",
    "                    learn.fit_one_cycle(epoch, max_lr= lr)\n",
    "                if save_newmodels: learn.save(modelsavename)\n",
    "\n",
    "                last_train_loss = float(learn.recorder.losses[-1])\n",
    "                last_val_loss = float(learn.recorder.val_losses[-1])\n",
    "                last_val_metric = float(learn.recorder.metrics[-1][0])\n",
    "\n",
    "                fig_train_lr = learn.recorder.plot_lr(return_fig = True)\n",
    "                fig_train_losses = learn.recorder.plot_losses(return_fig = True)\n",
    "                fig_train_metrics = learn.recorder.plot_metrics(return_fig = True)\n",
    "                interp = ClassificationInterpretation.from_learner(learn)\n",
    "                fig_train_confmat = interp.plot_confusion_matrix(figsize=(12,12), dpi=60, return_fig = True)\n",
    "\n",
    "                # html emgedded figures\n",
    "                html_fig_base_toplosses = fig2inlinehtml(fig_base_toplosses)\n",
    "                html_fig_base_confmat = fig2inlinehtml(fig_base_confmat)\n",
    "                html_fig_orig_lrfind = fig2inlinehtml(fig_orig_lrfind)\n",
    "                html_fig_train_lr = fig2inlinehtml(fig_train_lr)\n",
    "                html_fig_train_losses = fig2inlinehtml(fig_train_losses)\n",
    "                html_fig_train_metrics = fig2inlinehtml(fig_train_metrics)\n",
    "                html_fig_train_confmat = fig2inlinehtml(fig_train_confmat)\n",
    "\n",
    "                output_df = output_df.append({'basemodeltype': basemodelname,\n",
    "                                      'basemodelfile': basemodelfile, \n",
    "                                      'newmodelfile' : modelsavename, \n",
    "                                      'lr' : lr, \n",
    "                                      'fit_type' : fit_type, \n",
    "                                      'epoch' : epoch, \n",
    "                                      'orig_metric' : orig_val_metric, \n",
    "                                      'retrain_metric' : last_val_metric,\n",
    "                                      'orig_most_confused' : most_conf_base, \n",
    "                                      'fig_base_toplosses' : html_fig_base_toplosses, \n",
    "                                      'fig_base_confmat' : html_fig_base_confmat, \n",
    "                                      'fig_orig_lrfind' : html_fig_orig_lrfind,\n",
    "                                      'last_train_loss' : last_train_loss, \n",
    "                                      'last_val_loss' : last_val_loss, \n",
    "                                      'last_val_metric' : last_val_metric, \n",
    "                                      'fig_train_lr' : html_fig_train_lr, \n",
    "                                      'fig_train_losses' : html_fig_train_losses, \n",
    "                                      'fig_train_metrics' : html_fig_train_metrics, \n",
    "                                      'fig_train_confmat' : html_fig_train_confmat\n",
    "                                     }, ignore_index=True)\n",
    "                output_df.to_pickle(exp_modelpath/'output.pkl')\n",
    "                output_df.to_html(exp_modelpath/'output.html', escape=False)\n",
    "                output_df.drop([fig_base_toplosses, fig_base_confmat], axis=1).to_html(exp_modelpath/'output_compact.html', escape=False)\n",
    "\n",
    "                plt.close(fig_train_lr)\n",
    "                plt.close(fig_train_losses)\n",
    "                plt.close(fig_train_metrics)\n",
    "                plt.close(fig_train_confmat)\n",
    "                fig_train_lr = None\n",
    "                fig_train_losses = None\n",
    "                fig_train_metrics = None\n",
    "                fig_train_confmat = None        \n",
    "                gc.collect()\n",
    "\n",
    "\n",
    "    plt.close(fig_base_toplosses)\n",
    "    plt.close(fig_base_confmat)\n",
    "    plt.close(fig_orig_lrfind)\n",
    "    fig_base_toplosses = None\n",
    "    fig_base_confmat = None\n",
    "    fig_orig_lrfind = None\n",
    "    plt.close(\"all\")\n",
    "    gc.collect()\n",
    "    return output_df"
   ]
  },
  {
   "cell_type": "markdown",
   "metadata": {},
   "source": [
    "### ResNet18"
   ]
  },
  {
   "cell_type": "code",
   "execution_count": null,
   "metadata": {},
   "outputs": [],
   "source": [
    "basemodelname='resnet18'\n",
    "basemodelfile = 'basetrain-res18-lr3e3_1e61e4-ep8_3-pretrain'\n",
    "exp_modelpath = path_experiment/basemodelname\n",
    "(exp_modelpath).mkdir(parents = True, exist_ok=True)"
   ]
  },
  {
   "cell_type": "code",
   "execution_count": null,
   "metadata": {},
   "outputs": [],
   "source": [
    "pd.set_option('display.max_colwidth', None)\n",
    "output_df = pd.DataFrame(columns=['basemodeltype', 'basemodelfile', 'newmodelfile', 'lr', 'fit_type', 'epoch', 'orig_metric', 'retrain_metric',\n",
    "                                'orig_most_confused', 'fig_base_toplosses', 'fig_base_confmat', 'fig_train_confmat', 'fig_orig_lrfind',\n",
    "                                'last_train_loss', 'last_val_loss', 'last_val_metric', \n",
    "                                'fig_train_lr', 'fig_train_losses', 'fig_train_metrics'])"
   ]
  },
  {
   "cell_type": "code",
   "execution_count": null,
   "metadata": {},
   "outputs": [],
   "source": [
    "learn = cnn_learner(data, models.resnet18, loss_func = nn.CrossEntropyLoss(), metrics=error_rate, pretrained=False)"
   ]
  },
  {
   "cell_type": "code",
   "execution_count": null,
   "metadata": {},
   "outputs": [],
   "source": [
    "output_df = trainscript(output_df)"
   ]
  },
  {
   "cell_type": "code",
   "execution_count": null,
   "metadata": {},
   "outputs": [],
   "source": [
    "learn.destroy()\n",
    "gc.collect()"
   ]
  },
  {
   "cell_type": "markdown",
   "metadata": {},
   "source": [
    "### ResNet34"
   ]
  },
  {
   "cell_type": "code",
   "execution_count": null,
   "metadata": {},
   "outputs": [],
   "source": [
    "basemodelname='resnet34'\n",
    "basemodelfile = 'basetrain-res34-lr3e3_1e61e4-ep8_3-pretrain'\n",
    "exp_modelpath = path_experiment/basemodelname\n",
    "(exp_modelpath).mkdir(parents = True, exist_ok=True)"
   ]
  },
  {
   "cell_type": "code",
   "execution_count": null,
   "metadata": {},
   "outputs": [],
   "source": [
    "pd.set_option('display.max_colwidth', None)\n",
    "output_df = pd.DataFrame(columns=['basemodeltype', 'basemodelfile', 'newmodelfile', 'lr', 'fit_type', 'epoch', 'orig_metric', 'retrain_metric',\n",
    "                                'orig_most_confused', 'fig_base_toplosses', 'fig_base_confmat', 'fig_train_confmat', 'fig_orig_lrfind',\n",
    "                                'last_train_loss', 'last_val_loss', 'last_val_metric', \n",
    "                                'fig_train_lr', 'fig_train_losses', 'fig_train_metrics'])"
   ]
  },
  {
   "cell_type": "code",
   "execution_count": null,
   "metadata": {},
   "outputs": [],
   "source": [
    "learn = cnn_learner(data, models.resnet34, loss_func = nn.CrossEntropyLoss(), metrics=error_rate, pretrained=False)"
   ]
  },
  {
   "cell_type": "code",
   "execution_count": null,
   "metadata": {},
   "outputs": [],
   "source": [
    "output_df = trainscript(output_df)"
   ]
  },
  {
   "cell_type": "code",
   "execution_count": null,
   "metadata": {},
   "outputs": [],
   "source": [
    "learn.destroy()\n",
    "gc.collect()"
   ]
  },
  {
   "cell_type": "markdown",
   "metadata": {},
   "source": [
    "### ResNet50"
   ]
  },
  {
   "cell_type": "code",
   "execution_count": null,
   "metadata": {},
   "outputs": [],
   "source": [
    "basemodelname='resnet50'\n",
    "basemodelfile = 'basetrain-res50-lr3e3_1e61e4-ep8_3-pretrain'\n",
    "exp_modelpath = path_experiment/basemodelname\n",
    "(exp_modelpath).mkdir(parents = True, exist_ok=True)"
   ]
  },
  {
   "cell_type": "code",
   "execution_count": null,
   "metadata": {},
   "outputs": [],
   "source": [
    "pd.set_option('display.max_colwidth', None)\n",
    "output_df = pd.DataFrame(columns=['basemodeltype', 'basemodelfile', 'newmodelfile', 'lr', 'fit_type', 'epoch', 'orig_metric', 'retrain_metric',\n",
    "                                'orig_most_confused', 'fig_base_toplosses', 'fig_base_confmat', 'fig_train_confmat', 'fig_orig_lrfind',\n",
    "                                'last_train_loss', 'last_val_loss', 'last_val_metric', \n",
    "                                'fig_train_lr', 'fig_train_losses', 'fig_train_metrics'])"
   ]
  },
  {
   "cell_type": "code",
   "execution_count": null,
   "metadata": {},
   "outputs": [],
   "source": [
    "learn = cnn_learner(data, models.resnet50, loss_func = nn.CrossEntropyLoss(), metrics=error_rate, pretrained=False)"
   ]
  },
  {
   "cell_type": "code",
   "execution_count": null,
   "metadata": {},
   "outputs": [],
   "source": [
    "output_df = trainscript(output_df)"
   ]
  },
  {
   "cell_type": "code",
   "execution_count": null,
   "metadata": {},
   "outputs": [],
   "source": [
    "learn.destroy()\n",
    "gc.collect()"
   ]
  },
  {
   "cell_type": "markdown",
   "metadata": {},
   "source": [
    "### ResNet101"
   ]
  },
  {
   "cell_type": "code",
   "execution_count": null,
   "metadata": {},
   "outputs": [],
   "source": [
    "basemodelname='resnet101'\n",
    "basemodelfile = 'basetrain-res101-lr3e3_1e61e4-ep8_3-pretrain'\n",
    "exp_modelpath = path_experiment/basemodelname\n",
    "(exp_modelpath).mkdir(parents = True, exist_ok=True)"
   ]
  },
  {
   "cell_type": "code",
   "execution_count": null,
   "metadata": {},
   "outputs": [],
   "source": [
    "pd.set_option('display.max_colwidth', None)\n",
    "output_df = pd.DataFrame(columns=['basemodeltype', 'basemodelfile', 'newmodelfile', 'lr', 'fit_type', 'epoch', 'orig_metric', 'retrain_metric',\n",
    "                                'orig_most_confused', 'fig_base_toplosses', 'fig_base_confmat', 'fig_train_confmat', 'fig_orig_lrfind',\n",
    "                                'last_train_loss', 'last_val_loss', 'last_val_metric', \n",
    "                                'fig_train_lr', 'fig_train_losses', 'fig_train_metrics'])"
   ]
  },
  {
   "cell_type": "code",
   "execution_count": null,
   "metadata": {},
   "outputs": [],
   "source": [
    "learn = cnn_learner(data, models.resnet101, loss_func = nn.CrossEntropyLoss(), metrics=error_rate, pretrained=False)"
   ]
  },
  {
   "cell_type": "code",
   "execution_count": null,
   "metadata": {},
   "outputs": [],
   "source": [
    "output_df = trainscript(output_df)"
   ]
  },
  {
   "cell_type": "code",
   "execution_count": null,
   "metadata": {},
   "outputs": [],
   "source": [
    "learn.destroy()\n",
    "gc.collect()"
   ]
  },
  {
   "cell_type": "code",
   "execution_count": null,
   "metadata": {},
   "outputs": [],
   "source": []
  }
 ],
 "metadata": {
  "kernelspec": {
   "display_name": "Python 3",
   "language": "python",
   "name": "python3"
  },
  "language_info": {
   "codemirror_mode": {
    "name": "ipython",
    "version": 3
   },
   "file_extension": ".py",
   "mimetype": "text/x-python",
   "name": "python",
   "nbconvert_exporter": "python",
   "pygments_lexer": "ipython3",
   "version": "3.7.4"
  }
 },
 "nbformat": 4,
 "nbformat_minor": 4
}
